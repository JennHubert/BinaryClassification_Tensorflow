{
 "cells": [
  {
   "cell_type": "code",
   "execution_count": 121,
   "metadata": {},
   "outputs": [
    {
     "name": "stderr",
     "output_type": "stream",
     "text": [
      "/var/folders/5l/kpxnt2bs4833d97xqj_kt90c0000gn/T/ipykernel_68471/2838484003.py:2: DtypeWarning: Columns (3) have mixed types. Specify dtype option on import or set low_memory=False.\n",
      "  df=pd.read_csv('classification/ad.data', header=None)\n"
     ]
    },
    {
     "data": {
      "text/html": [
       "<div>\n",
       "<style scoped>\n",
       "    .dataframe tbody tr th:only-of-type {\n",
       "        vertical-align: middle;\n",
       "    }\n",
       "\n",
       "    .dataframe tbody tr th {\n",
       "        vertical-align: top;\n",
       "    }\n",
       "\n",
       "    .dataframe thead th {\n",
       "        text-align: right;\n",
       "    }\n",
       "</style>\n",
       "<table border=\"1\" class=\"dataframe\">\n",
       "  <thead>\n",
       "    <tr style=\"text-align: right;\">\n",
       "      <th></th>\n",
       "      <th>0</th>\n",
       "      <th>1</th>\n",
       "      <th>2</th>\n",
       "      <th>3</th>\n",
       "      <th>4</th>\n",
       "      <th>5</th>\n",
       "      <th>6</th>\n",
       "      <th>7</th>\n",
       "      <th>8</th>\n",
       "      <th>9</th>\n",
       "      <th>...</th>\n",
       "      <th>1549</th>\n",
       "      <th>1550</th>\n",
       "      <th>1551</th>\n",
       "      <th>1552</th>\n",
       "      <th>1553</th>\n",
       "      <th>1554</th>\n",
       "      <th>1555</th>\n",
       "      <th>1556</th>\n",
       "      <th>1557</th>\n",
       "      <th>1558</th>\n",
       "    </tr>\n",
       "  </thead>\n",
       "  <tbody>\n",
       "    <tr>\n",
       "      <th>0</th>\n",
       "      <td>125</td>\n",
       "      <td>125</td>\n",
       "      <td>1.0</td>\n",
       "      <td>1</td>\n",
       "      <td>0</td>\n",
       "      <td>0</td>\n",
       "      <td>0</td>\n",
       "      <td>0</td>\n",
       "      <td>0</td>\n",
       "      <td>0</td>\n",
       "      <td>...</td>\n",
       "      <td>0</td>\n",
       "      <td>0</td>\n",
       "      <td>0</td>\n",
       "      <td>0</td>\n",
       "      <td>0</td>\n",
       "      <td>0</td>\n",
       "      <td>0</td>\n",
       "      <td>0</td>\n",
       "      <td>0</td>\n",
       "      <td>ad.</td>\n",
       "    </tr>\n",
       "    <tr>\n",
       "      <th>1</th>\n",
       "      <td>57</td>\n",
       "      <td>468</td>\n",
       "      <td>8.2105</td>\n",
       "      <td>1</td>\n",
       "      <td>0</td>\n",
       "      <td>0</td>\n",
       "      <td>0</td>\n",
       "      <td>0</td>\n",
       "      <td>0</td>\n",
       "      <td>0</td>\n",
       "      <td>...</td>\n",
       "      <td>0</td>\n",
       "      <td>0</td>\n",
       "      <td>0</td>\n",
       "      <td>0</td>\n",
       "      <td>0</td>\n",
       "      <td>0</td>\n",
       "      <td>0</td>\n",
       "      <td>0</td>\n",
       "      <td>0</td>\n",
       "      <td>ad.</td>\n",
       "    </tr>\n",
       "    <tr>\n",
       "      <th>2</th>\n",
       "      <td>33</td>\n",
       "      <td>230</td>\n",
       "      <td>6.9696</td>\n",
       "      <td>1</td>\n",
       "      <td>0</td>\n",
       "      <td>0</td>\n",
       "      <td>0</td>\n",
       "      <td>0</td>\n",
       "      <td>0</td>\n",
       "      <td>0</td>\n",
       "      <td>...</td>\n",
       "      <td>0</td>\n",
       "      <td>0</td>\n",
       "      <td>0</td>\n",
       "      <td>0</td>\n",
       "      <td>0</td>\n",
       "      <td>0</td>\n",
       "      <td>0</td>\n",
       "      <td>0</td>\n",
       "      <td>0</td>\n",
       "      <td>ad.</td>\n",
       "    </tr>\n",
       "    <tr>\n",
       "      <th>3</th>\n",
       "      <td>60</td>\n",
       "      <td>468</td>\n",
       "      <td>7.8</td>\n",
       "      <td>1</td>\n",
       "      <td>0</td>\n",
       "      <td>0</td>\n",
       "      <td>0</td>\n",
       "      <td>0</td>\n",
       "      <td>0</td>\n",
       "      <td>0</td>\n",
       "      <td>...</td>\n",
       "      <td>0</td>\n",
       "      <td>0</td>\n",
       "      <td>0</td>\n",
       "      <td>0</td>\n",
       "      <td>0</td>\n",
       "      <td>0</td>\n",
       "      <td>0</td>\n",
       "      <td>0</td>\n",
       "      <td>0</td>\n",
       "      <td>ad.</td>\n",
       "    </tr>\n",
       "    <tr>\n",
       "      <th>4</th>\n",
       "      <td>60</td>\n",
       "      <td>468</td>\n",
       "      <td>7.8</td>\n",
       "      <td>1</td>\n",
       "      <td>0</td>\n",
       "      <td>0</td>\n",
       "      <td>0</td>\n",
       "      <td>0</td>\n",
       "      <td>0</td>\n",
       "      <td>0</td>\n",
       "      <td>...</td>\n",
       "      <td>0</td>\n",
       "      <td>0</td>\n",
       "      <td>0</td>\n",
       "      <td>0</td>\n",
       "      <td>0</td>\n",
       "      <td>0</td>\n",
       "      <td>0</td>\n",
       "      <td>0</td>\n",
       "      <td>0</td>\n",
       "      <td>ad.</td>\n",
       "    </tr>\n",
       "  </tbody>\n",
       "</table>\n",
       "<p>5 rows × 1559 columns</p>\n",
       "</div>"
      ],
      "text/plain": [
       "   0     1       2    3     4     5     6     7     8     9     ...  1549  \\\n",
       "0   125   125     1.0    1     0     0     0     0     0     0  ...     0   \n",
       "1    57   468  8.2105    1     0     0     0     0     0     0  ...     0   \n",
       "2    33   230  6.9696    1     0     0     0     0     0     0  ...     0   \n",
       "3    60   468     7.8    1     0     0     0     0     0     0  ...     0   \n",
       "4    60   468     7.8    1     0     0     0     0     0     0  ...     0   \n",
       "\n",
       "   1550  1551  1552  1553  1554  1555  1556  1557  1558  \n",
       "0     0     0     0     0     0     0     0     0   ad.  \n",
       "1     0     0     0     0     0     0     0     0   ad.  \n",
       "2     0     0     0     0     0     0     0     0   ad.  \n",
       "3     0     0     0     0     0     0     0     0   ad.  \n",
       "4     0     0     0     0     0     0     0     0   ad.  \n",
       "\n",
       "[5 rows x 1559 columns]"
      ]
     },
     "execution_count": 121,
     "metadata": {},
     "output_type": "execute_result"
    }
   ],
   "source": [
    "import pandas as pd\n",
    "df=pd.read_csv('classification/ad.data', header=None)\n",
    "df.head()"
   ]
  },
  {
   "cell_type": "code",
   "execution_count": 122,
   "metadata": {},
   "outputs": [
    {
     "data": {
      "text/html": [
       "<div>\n",
       "<style scoped>\n",
       "    .dataframe tbody tr th:only-of-type {\n",
       "        vertical-align: middle;\n",
       "    }\n",
       "\n",
       "    .dataframe tbody tr th {\n",
       "        vertical-align: top;\n",
       "    }\n",
       "\n",
       "    .dataframe thead th {\n",
       "        text-align: right;\n",
       "    }\n",
       "</style>\n",
       "<table border=\"1\" class=\"dataframe\">\n",
       "  <thead>\n",
       "    <tr style=\"text-align: right;\">\n",
       "      <th></th>\n",
       "      <th>column_1</th>\n",
       "      <th>column_2</th>\n",
       "      <th>column_3</th>\n",
       "      <th>column_4</th>\n",
       "      <th>column_5</th>\n",
       "      <th>column_6</th>\n",
       "      <th>column_7</th>\n",
       "      <th>column_8</th>\n",
       "      <th>column_9</th>\n",
       "      <th>column_10</th>\n",
       "      <th>...</th>\n",
       "      <th>column_1550</th>\n",
       "      <th>column_1551</th>\n",
       "      <th>column_1552</th>\n",
       "      <th>column_1553</th>\n",
       "      <th>column_1554</th>\n",
       "      <th>column_1555</th>\n",
       "      <th>column_1556</th>\n",
       "      <th>column_1557</th>\n",
       "      <th>column_1558</th>\n",
       "      <th>column_1559</th>\n",
       "    </tr>\n",
       "  </thead>\n",
       "  <tbody>\n",
       "    <tr>\n",
       "      <th>0</th>\n",
       "      <td>125</td>\n",
       "      <td>125</td>\n",
       "      <td>1.0</td>\n",
       "      <td>1</td>\n",
       "      <td>0</td>\n",
       "      <td>0</td>\n",
       "      <td>0</td>\n",
       "      <td>0</td>\n",
       "      <td>0</td>\n",
       "      <td>0</td>\n",
       "      <td>...</td>\n",
       "      <td>0</td>\n",
       "      <td>0</td>\n",
       "      <td>0</td>\n",
       "      <td>0</td>\n",
       "      <td>0</td>\n",
       "      <td>0</td>\n",
       "      <td>0</td>\n",
       "      <td>0</td>\n",
       "      <td>0</td>\n",
       "      <td>ad.</td>\n",
       "    </tr>\n",
       "    <tr>\n",
       "      <th>1</th>\n",
       "      <td>57</td>\n",
       "      <td>468</td>\n",
       "      <td>8.2105</td>\n",
       "      <td>1</td>\n",
       "      <td>0</td>\n",
       "      <td>0</td>\n",
       "      <td>0</td>\n",
       "      <td>0</td>\n",
       "      <td>0</td>\n",
       "      <td>0</td>\n",
       "      <td>...</td>\n",
       "      <td>0</td>\n",
       "      <td>0</td>\n",
       "      <td>0</td>\n",
       "      <td>0</td>\n",
       "      <td>0</td>\n",
       "      <td>0</td>\n",
       "      <td>0</td>\n",
       "      <td>0</td>\n",
       "      <td>0</td>\n",
       "      <td>ad.</td>\n",
       "    </tr>\n",
       "    <tr>\n",
       "      <th>2</th>\n",
       "      <td>33</td>\n",
       "      <td>230</td>\n",
       "      <td>6.9696</td>\n",
       "      <td>1</td>\n",
       "      <td>0</td>\n",
       "      <td>0</td>\n",
       "      <td>0</td>\n",
       "      <td>0</td>\n",
       "      <td>0</td>\n",
       "      <td>0</td>\n",
       "      <td>...</td>\n",
       "      <td>0</td>\n",
       "      <td>0</td>\n",
       "      <td>0</td>\n",
       "      <td>0</td>\n",
       "      <td>0</td>\n",
       "      <td>0</td>\n",
       "      <td>0</td>\n",
       "      <td>0</td>\n",
       "      <td>0</td>\n",
       "      <td>ad.</td>\n",
       "    </tr>\n",
       "    <tr>\n",
       "      <th>3</th>\n",
       "      <td>60</td>\n",
       "      <td>468</td>\n",
       "      <td>7.8</td>\n",
       "      <td>1</td>\n",
       "      <td>0</td>\n",
       "      <td>0</td>\n",
       "      <td>0</td>\n",
       "      <td>0</td>\n",
       "      <td>0</td>\n",
       "      <td>0</td>\n",
       "      <td>...</td>\n",
       "      <td>0</td>\n",
       "      <td>0</td>\n",
       "      <td>0</td>\n",
       "      <td>0</td>\n",
       "      <td>0</td>\n",
       "      <td>0</td>\n",
       "      <td>0</td>\n",
       "      <td>0</td>\n",
       "      <td>0</td>\n",
       "      <td>ad.</td>\n",
       "    </tr>\n",
       "    <tr>\n",
       "      <th>4</th>\n",
       "      <td>60</td>\n",
       "      <td>468</td>\n",
       "      <td>7.8</td>\n",
       "      <td>1</td>\n",
       "      <td>0</td>\n",
       "      <td>0</td>\n",
       "      <td>0</td>\n",
       "      <td>0</td>\n",
       "      <td>0</td>\n",
       "      <td>0</td>\n",
       "      <td>...</td>\n",
       "      <td>0</td>\n",
       "      <td>0</td>\n",
       "      <td>0</td>\n",
       "      <td>0</td>\n",
       "      <td>0</td>\n",
       "      <td>0</td>\n",
       "      <td>0</td>\n",
       "      <td>0</td>\n",
       "      <td>0</td>\n",
       "      <td>ad.</td>\n",
       "    </tr>\n",
       "  </tbody>\n",
       "</table>\n",
       "<p>5 rows × 1559 columns</p>\n",
       "</div>"
      ],
      "text/plain": [
       "  column_1 column_2 column_3 column_4  column_5  column_6  column_7  column_8  \\\n",
       "0      125      125      1.0        1         0         0         0         0   \n",
       "1       57      468   8.2105        1         0         0         0         0   \n",
       "2       33      230   6.9696        1         0         0         0         0   \n",
       "3       60      468      7.8        1         0         0         0         0   \n",
       "4       60      468      7.8        1         0         0         0         0   \n",
       "\n",
       "   column_9  column_10  ...  column_1550  column_1551  column_1552  \\\n",
       "0         0          0  ...            0            0            0   \n",
       "1         0          0  ...            0            0            0   \n",
       "2         0          0  ...            0            0            0   \n",
       "3         0          0  ...            0            0            0   \n",
       "4         0          0  ...            0            0            0   \n",
       "\n",
       "   column_1553  column_1554  column_1555  column_1556  column_1557  \\\n",
       "0            0            0            0            0            0   \n",
       "1            0            0            0            0            0   \n",
       "2            0            0            0            0            0   \n",
       "3            0            0            0            0            0   \n",
       "4            0            0            0            0            0   \n",
       "\n",
       "   column_1558  column_1559  \n",
       "0            0          ad.  \n",
       "1            0          ad.  \n",
       "2            0          ad.  \n",
       "3            0          ad.  \n",
       "4            0          ad.  \n",
       "\n",
       "[5 rows x 1559 columns]"
      ]
     },
     "execution_count": 122,
     "metadata": {},
     "output_type": "execute_result"
    }
   ],
   "source": [
    "df.columns = df.columns.map(lambda x: f'column_{x+1}')\n",
    "df.head()"
   ]
  },
  {
   "cell_type": "code",
   "execution_count": 123,
   "metadata": {},
   "outputs": [
    {
     "data": {
      "text/plain": [
       "(3279, 1559)"
      ]
     },
     "execution_count": 123,
     "metadata": {},
     "output_type": "execute_result"
    }
   ],
   "source": [
    "df.shape"
   ]
  },
  {
   "cell_type": "code",
   "execution_count": 124,
   "metadata": {},
   "outputs": [
    {
     "data": {
      "text/plain": [
       "nonad.    2820\n",
       "ad.        459\n",
       "Name: column_1559, dtype: int64"
      ]
     },
     "execution_count": 124,
     "metadata": {},
     "output_type": "execute_result"
    }
   ],
   "source": [
    "df.column_1559.value_counts()"
   ]
  },
  {
   "cell_type": "code",
   "execution_count": 125,
   "metadata": {},
   "outputs": [
    {
     "data": {
      "text/plain": [
       "   ?    903\n",
       "  60    283\n",
       "  12    110\n",
       "  16     94\n",
       "  11     93\n",
       "       ... \n",
       " 205      1\n",
       " 172      1\n",
       " 116      1\n",
       " 169      1\n",
       " 191      1\n",
       "Name: column_1, Length: 221, dtype: int64"
      ]
     },
     "execution_count": 125,
     "metadata": {},
     "output_type": "execute_result"
    }
   ],
   "source": [
    "df.column_1.value_counts()"
   ]
  },
  {
   "cell_type": "code",
   "execution_count": 126,
   "metadata": {},
   "outputs": [
    {
     "data": {
      "text/plain": [
       "   ?    901\n",
       " 468    186\n",
       " 100     94\n",
       "  88     90\n",
       " 120     70\n",
       "       ... \n",
       " 440      1\n",
       " 430      1\n",
       " 416      1\n",
       "  53      1\n",
       " 153      1\n",
       "Name: column_2, Length: 278, dtype: int64"
      ]
     },
     "execution_count": 126,
     "metadata": {},
     "output_type": "execute_result"
    }
   ],
   "source": [
    "df.column_2.value_counts()"
   ]
  },
  {
   "cell_type": "code",
   "execution_count": 127,
   "metadata": {},
   "outputs": [
    {
     "data": {
      "text/plain": [
       "     ?    910\n",
       "   1.0    301\n",
       "   7.8    184\n",
       "2.8387     64\n",
       "   4.0     41\n",
       "         ... \n",
       "1.0714      1\n",
       "1.0638      1\n",
       "0.5125      1\n",
       "1.4074      1\n",
       "5.2173      1\n",
       "Name: column_3, Length: 781, dtype: int64"
      ]
     },
     "execution_count": 127,
     "metadata": {},
     "output_type": "execute_result"
    }
   ],
   "source": [
    "df.column_3.value_counts()"
   ]
  },
  {
   "cell_type": "code",
   "execution_count": 128,
   "metadata": {},
   "outputs": [
    {
     "name": "stdout",
     "output_type": "stream",
     "text": [
      "     column_1 column_2 column_3 column_4  column_5  column_6  column_7  \\\n",
      "10          ?        ?        ?        1         0         0         0   \n",
      "24          ?        ?        ?        1         0         0         0   \n",
      "62          ?        ?        ?        0         0         0         0   \n",
      "63          ?        ?        ?        0         0         0         0   \n",
      "64          ?        ?        ?        0         0         0         0   \n",
      "...       ...      ...      ...      ...       ...       ...       ...   \n",
      "3261        ?        ?        ?        1         0         0         0   \n",
      "3269        ?        ?        ?        1         0         0         0   \n",
      "3270        ?        ?        ?        1         0         0         0   \n",
      "3271        ?        ?        ?        1         0         0         0   \n",
      "3277        ?        ?        ?        1         0         0         0   \n",
      "\n",
      "      column_8  column_9  column_10  ...  column_1550  column_1551  \\\n",
      "10           0         0          0  ...            0            0   \n",
      "24           0         0          0  ...            0            0   \n",
      "62           0         0          0  ...            0            0   \n",
      "63           0         0          0  ...            0            0   \n",
      "64           0         0          0  ...            0            0   \n",
      "...        ...       ...        ...  ...          ...          ...   \n",
      "3261         0         0          0  ...            0            0   \n",
      "3269         0         0          0  ...            0            0   \n",
      "3270         0         0          0  ...            0            0   \n",
      "3271         0         0          0  ...            0            0   \n",
      "3277         0         0          0  ...            0            0   \n",
      "\n",
      "      column_1552  column_1553  column_1554  column_1555  column_1556  \\\n",
      "10              0            0            0            0            0   \n",
      "24              0            0            0            0            0   \n",
      "62              0            0            0            0            0   \n",
      "63              0            0            0            0            0   \n",
      "64              0            0            0            0            0   \n",
      "...           ...          ...          ...          ...          ...   \n",
      "3261            0            0            0            0            0   \n",
      "3269            0            0            0            0            0   \n",
      "3270            0            0            0            0            0   \n",
      "3271            0            0            0            0            0   \n",
      "3277            0            0            0            0            0   \n",
      "\n",
      "      column_1557  column_1558  column_1559  \n",
      "10              0            0          ad.  \n",
      "24              0            0          ad.  \n",
      "62              0            0          ad.  \n",
      "63              0            0          ad.  \n",
      "64              0            0          ad.  \n",
      "...           ...          ...          ...  \n",
      "3261            0            0       nonad.  \n",
      "3269            0            0       nonad.  \n",
      "3270            0            0       nonad.  \n",
      "3271            0            0       nonad.  \n",
      "3277            0            0       nonad.  \n",
      "\n",
      "[910 rows x 1559 columns]\n"
     ]
    }
   ],
   "source": [
    "newdf = df[(df.column_1 == \"   ?\") | (df.column_2 == '   ?') | (df.column_3 =='     ?') ]\n",
    "print(newdf)"
   ]
  },
  {
   "cell_type": "code",
   "execution_count": 129,
   "metadata": {},
   "outputs": [
    {
     "name": "stdout",
     "output_type": "stream",
     "text": [
      "     column_1 column_2 column_3 column_4  column_5  column_6  column_7  \\\n",
      "0         125      125      1.0        1         0         0         0   \n",
      "1          57      468   8.2105        1         0         0         0   \n",
      "2          33      230   6.9696        1         0         0         0   \n",
      "3          60      468      7.8        1         0         0         0   \n",
      "4          60      468      7.8        1         0         0         0   \n",
      "...       ...      ...      ...      ...       ...       ...       ...   \n",
      "3273       30       30      1.0        0         0         0         0   \n",
      "3274      170       94   0.5529        0         0         0         0   \n",
      "3275      101      140   1.3861        1         0         0         0   \n",
      "3276       23      120   5.2173        1         0         0         0   \n",
      "3278       40       40      1.0        1         0         0         0   \n",
      "\n",
      "      column_8  column_9  column_10  ...  column_1550  column_1551  \\\n",
      "0            0         0          0  ...            0            0   \n",
      "1            0         0          0  ...            0            0   \n",
      "2            0         0          0  ...            0            0   \n",
      "3            0         0          0  ...            0            0   \n",
      "4            0         0          0  ...            0            0   \n",
      "...        ...       ...        ...  ...          ...          ...   \n",
      "3273         0         0          0  ...            0            0   \n",
      "3274         0         0          0  ...            0            0   \n",
      "3275         0         0          0  ...            0            0   \n",
      "3276         0         0          0  ...            0            0   \n",
      "3278         0         0          0  ...            0            0   \n",
      "\n",
      "      column_1552  column_1553  column_1554  column_1555  column_1556  \\\n",
      "0               0            0            0            0            0   \n",
      "1               0            0            0            0            0   \n",
      "2               0            0            0            0            0   \n",
      "3               0            0            0            0            0   \n",
      "4               0            0            0            0            0   \n",
      "...           ...          ...          ...          ...          ...   \n",
      "3273            0            0            0            0            0   \n",
      "3274            0            0            0            0            0   \n",
      "3275            0            0            0            0            0   \n",
      "3276            0            0            0            0            0   \n",
      "3278            0            0            0            0            0   \n",
      "\n",
      "      column_1557  column_1558  column_1559  \n",
      "0               0            0          ad.  \n",
      "1               0            0          ad.  \n",
      "2               0            0          ad.  \n",
      "3               0            0          ad.  \n",
      "4               0            0          ad.  \n",
      "...           ...          ...          ...  \n",
      "3273            0            0       nonad.  \n",
      "3274            0            0       nonad.  \n",
      "3275            0            0       nonad.  \n",
      "3276            0            0       nonad.  \n",
      "3278            0            0       nonad.  \n",
      "\n",
      "[2359 rows x 1559 columns]\n"
     ]
    }
   ],
   "source": [
    "newdf2 = df[(df.column_1 != \"   ?\") & (df.column_2 != '   ?') & (df.column_3 !='     ?') & (df.column_4 !='?') ]\n",
    "print(newdf2)"
   ]
  },
  {
   "cell_type": "code",
   "execution_count": 130,
   "metadata": {},
   "outputs": [
    {
     "data": {
      "text/plain": [
       "nonad.    1978\n",
       "ad.        381\n",
       "Name: column_1559, dtype: int64"
      ]
     },
     "execution_count": 130,
     "metadata": {},
     "output_type": "execute_result"
    }
   ],
   "source": [
    "newdf2.column_1559.value_counts()"
   ]
  },
  {
   "cell_type": "code",
   "execution_count": 172,
   "metadata": {},
   "outputs": [
    {
     "data": {
      "image/png": "[encoded data removed]",
      "text/plain": [
       "<Figure size 640x480 with 1 Axes>"
      ]
     },
     "metadata": {},
     "output_type": "display_data"
    }
   ],
   "source": [
    "import matplotlib.pyplot as plt\n",
    "fig, ax = plt.subplots()\n",
    "values = ['ad', 'nonad']\n",
    "counts = [381, 1978]\n",
    "ax.bar(values, counts)\n",
    "plt.show()\n"
   ]
  },
  {
   "cell_type": "code",
   "execution_count": 173,
   "metadata": {},
   "outputs": [
    {
     "data": {
      "image/png": "[encoded data removed]",
      "text/plain": [
       "<Figure size 640x480 with 1 Axes>"
      ]
     },
     "metadata": {},
     "output_type": "display_data"
    }
   ],
   "source": [
    "import matplotlib.pyplot as plt\n",
    "fig, ax = plt.subplots()\n",
    "values2 = ['ad', 'nonad']\n",
    "counts2 = [459, 2820]\n",
    "ax.bar(values2, counts2)\n",
    "plt.show()"
   ]
  },
  {
   "cell_type": "code",
   "execution_count": 131,
   "metadata": {},
   "outputs": [
    {
     "data": {
      "text/plain": [
       "  60    283\n",
       "  12    110\n",
       "  16     94\n",
       "  11     93\n",
       "  40     73\n",
       "       ... \n",
       " 227      1\n",
       "   2      1\n",
       " 205      1\n",
       " 116      1\n",
       " 156      1\n",
       "Name: column_1, Length: 219, dtype: int64"
      ]
     },
     "execution_count": 131,
     "metadata": {},
     "output_type": "execute_result"
    }
   ],
   "source": [
    "newdf2.column_1.value_counts()"
   ]
  },
  {
   "cell_type": "code",
   "execution_count": 132,
   "metadata": {},
   "outputs": [
    {
     "data": {
      "text/plain": [
       " 468    185\n",
       " 100     94\n",
       "  88     90\n",
       " 120     66\n",
       " 140     60\n",
       "       ... \n",
       " 275      1\n",
       " 430      1\n",
       " 416      1\n",
       "  53      1\n",
       " 153      1\n",
       "Name: column_2, Length: 277, dtype: int64"
      ]
     },
     "execution_count": 132,
     "metadata": {},
     "output_type": "execute_result"
    }
   ],
   "source": [
    "newdf2.column_2.value_counts()"
   ]
  },
  {
   "cell_type": "code",
   "execution_count": 133,
   "metadata": {},
   "outputs": [
    {
     "data": {
      "text/plain": [
       "   1.0    301\n",
       "   7.8    184\n",
       "2.8387     64\n",
       "   4.0     41\n",
       "   5.0     39\n",
       "         ... \n",
       "0.5125      1\n",
       "1.4074      1\n",
       "1.6341      1\n",
       "  1.76      1\n",
       "5.2173      1\n",
       "Name: column_3, Length: 777, dtype: int64"
      ]
     },
     "execution_count": 133,
     "metadata": {},
     "output_type": "execute_result"
    }
   ],
   "source": [
    "newdf2.column_3.value_counts()"
   ]
  },
  {
   "cell_type": "code",
   "execution_count": 134,
   "metadata": {},
   "outputs": [
    {
     "data": {
      "text/plain": [
       "(2359, 1559)"
      ]
     },
     "execution_count": 134,
     "metadata": {},
     "output_type": "execute_result"
    }
   ],
   "source": [
    "newdf2.shape"
   ]
  },
  {
   "cell_type": "code",
   "execution_count": 135,
   "metadata": {},
   "outputs": [
    {
     "data": {
      "text/html": [
       "<div>\n",
       "<style scoped>\n",
       "    .dataframe tbody tr th:only-of-type {\n",
       "        vertical-align: middle;\n",
       "    }\n",
       "\n",
       "    .dataframe tbody tr th {\n",
       "        vertical-align: top;\n",
       "    }\n",
       "\n",
       "    .dataframe thead th {\n",
       "        text-align: right;\n",
       "    }\n",
       "</style>\n",
       "<table border=\"1\" class=\"dataframe\">\n",
       "  <thead>\n",
       "    <tr style=\"text-align: right;\">\n",
       "      <th></th>\n",
       "      <th>column_1</th>\n",
       "      <th>column_2</th>\n",
       "      <th>column_3</th>\n",
       "      <th>column_4</th>\n",
       "      <th>column_5</th>\n",
       "      <th>column_6</th>\n",
       "      <th>column_7</th>\n",
       "      <th>column_8</th>\n",
       "      <th>column_9</th>\n",
       "      <th>column_10</th>\n",
       "      <th>...</th>\n",
       "      <th>column_1550</th>\n",
       "      <th>column_1551</th>\n",
       "      <th>column_1552</th>\n",
       "      <th>column_1553</th>\n",
       "      <th>column_1554</th>\n",
       "      <th>column_1555</th>\n",
       "      <th>column_1556</th>\n",
       "      <th>column_1557</th>\n",
       "      <th>column_1558</th>\n",
       "      <th>column_1559</th>\n",
       "    </tr>\n",
       "  </thead>\n",
       "  <tbody>\n",
       "    <tr>\n",
       "      <th>0</th>\n",
       "      <td>125</td>\n",
       "      <td>125</td>\n",
       "      <td>1.0</td>\n",
       "      <td>1</td>\n",
       "      <td>0</td>\n",
       "      <td>0</td>\n",
       "      <td>0</td>\n",
       "      <td>0</td>\n",
       "      <td>0</td>\n",
       "      <td>0</td>\n",
       "      <td>...</td>\n",
       "      <td>0</td>\n",
       "      <td>0</td>\n",
       "      <td>0</td>\n",
       "      <td>0</td>\n",
       "      <td>0</td>\n",
       "      <td>0</td>\n",
       "      <td>0</td>\n",
       "      <td>0</td>\n",
       "      <td>0</td>\n",
       "      <td>ad.</td>\n",
       "    </tr>\n",
       "    <tr>\n",
       "      <th>1</th>\n",
       "      <td>57</td>\n",
       "      <td>468</td>\n",
       "      <td>8.2105</td>\n",
       "      <td>1</td>\n",
       "      <td>0</td>\n",
       "      <td>0</td>\n",
       "      <td>0</td>\n",
       "      <td>0</td>\n",
       "      <td>0</td>\n",
       "      <td>0</td>\n",
       "      <td>...</td>\n",
       "      <td>0</td>\n",
       "      <td>0</td>\n",
       "      <td>0</td>\n",
       "      <td>0</td>\n",
       "      <td>0</td>\n",
       "      <td>0</td>\n",
       "      <td>0</td>\n",
       "      <td>0</td>\n",
       "      <td>0</td>\n",
       "      <td>ad.</td>\n",
       "    </tr>\n",
       "    <tr>\n",
       "      <th>2</th>\n",
       "      <td>33</td>\n",
       "      <td>230</td>\n",
       "      <td>6.9696</td>\n",
       "      <td>1</td>\n",
       "      <td>0</td>\n",
       "      <td>0</td>\n",
       "      <td>0</td>\n",
       "      <td>0</td>\n",
       "      <td>0</td>\n",
       "      <td>0</td>\n",
       "      <td>...</td>\n",
       "      <td>0</td>\n",
       "      <td>0</td>\n",
       "      <td>0</td>\n",
       "      <td>0</td>\n",
       "      <td>0</td>\n",
       "      <td>0</td>\n",
       "      <td>0</td>\n",
       "      <td>0</td>\n",
       "      <td>0</td>\n",
       "      <td>ad.</td>\n",
       "    </tr>\n",
       "    <tr>\n",
       "      <th>3</th>\n",
       "      <td>60</td>\n",
       "      <td>468</td>\n",
       "      <td>7.8</td>\n",
       "      <td>1</td>\n",
       "      <td>0</td>\n",
       "      <td>0</td>\n",
       "      <td>0</td>\n",
       "      <td>0</td>\n",
       "      <td>0</td>\n",
       "      <td>0</td>\n",
       "      <td>...</td>\n",
       "      <td>0</td>\n",
       "      <td>0</td>\n",
       "      <td>0</td>\n",
       "      <td>0</td>\n",
       "      <td>0</td>\n",
       "      <td>0</td>\n",
       "      <td>0</td>\n",
       "      <td>0</td>\n",
       "      <td>0</td>\n",
       "      <td>ad.</td>\n",
       "    </tr>\n",
       "    <tr>\n",
       "      <th>4</th>\n",
       "      <td>60</td>\n",
       "      <td>468</td>\n",
       "      <td>7.8</td>\n",
       "      <td>1</td>\n",
       "      <td>0</td>\n",
       "      <td>0</td>\n",
       "      <td>0</td>\n",
       "      <td>0</td>\n",
       "      <td>0</td>\n",
       "      <td>0</td>\n",
       "      <td>...</td>\n",
       "      <td>0</td>\n",
       "      <td>0</td>\n",
       "      <td>0</td>\n",
       "      <td>0</td>\n",
       "      <td>0</td>\n",
       "      <td>0</td>\n",
       "      <td>0</td>\n",
       "      <td>0</td>\n",
       "      <td>0</td>\n",
       "      <td>ad.</td>\n",
       "    </tr>\n",
       "  </tbody>\n",
       "</table>\n",
       "<p>5 rows × 1559 columns</p>\n",
       "</div>"
      ],
      "text/plain": [
       "  column_1 column_2 column_3 column_4  column_5  column_6  column_7  column_8  \\\n",
       "0      125      125      1.0        1         0         0         0         0   \n",
       "1       57      468   8.2105        1         0         0         0         0   \n",
       "2       33      230   6.9696        1         0         0         0         0   \n",
       "3       60      468      7.8        1         0         0         0         0   \n",
       "4       60      468      7.8        1         0         0         0         0   \n",
       "\n",
       "   column_9  column_10  ...  column_1550  column_1551  column_1552  \\\n",
       "0         0          0  ...            0            0            0   \n",
       "1         0          0  ...            0            0            0   \n",
       "2         0          0  ...            0            0            0   \n",
       "3         0          0  ...            0            0            0   \n",
       "4         0          0  ...            0            0            0   \n",
       "\n",
       "   column_1553  column_1554  column_1555  column_1556  column_1557  \\\n",
       "0            0            0            0            0            0   \n",
       "1            0            0            0            0            0   \n",
       "2            0            0            0            0            0   \n",
       "3            0            0            0            0            0   \n",
       "4            0            0            0            0            0   \n",
       "\n",
       "   column_1558  column_1559  \n",
       "0            0          ad.  \n",
       "1            0          ad.  \n",
       "2            0          ad.  \n",
       "3            0          ad.  \n",
       "4            0          ad.  \n",
       "\n",
       "[5 rows x 1559 columns]"
      ]
     },
     "execution_count": 135,
     "metadata": {},
     "output_type": "execute_result"
    }
   ],
   "source": [
    "newdf2.head()"
   ]
  },
  {
   "cell_type": "code",
   "execution_count": 136,
   "metadata": {},
   "outputs": [
    {
     "data": {
      "text/plain": [
       "column_1       object\n",
       "column_2       object\n",
       "column_3       object\n",
       "column_4       object\n",
       "column_5        int64\n",
       "                ...  \n",
       "column_1555     int64\n",
       "column_1556     int64\n",
       "column_1557     int64\n",
       "column_1558     int64\n",
       "column_1559    object\n",
       "Length: 1559, dtype: object"
      ]
     },
     "execution_count": 136,
     "metadata": {},
     "output_type": "execute_result"
    }
   ],
   "source": [
    "newdf2.dtypes"
   ]
  },
  {
   "cell_type": "code",
   "execution_count": 137,
   "metadata": {},
   "outputs": [
    {
     "name": "stderr",
     "output_type": "stream",
     "text": [
      "/var/folders/5l/kpxnt2bs4833d97xqj_kt90c0000gn/T/ipykernel_68471/2708965772.py:1: SettingWithCopyWarning: \n",
      "A value is trying to be set on a copy of a slice from a DataFrame.\n",
      "Try using .loc[row_indexer,col_indexer] = value instead\n",
      "\n",
      "See the caveats in the documentation: https://pandas.pydata.org/pandas-docs/stable/user_guide/indexing.html#returning-a-view-versus-a-copy\n",
      "  newdf2['column_1']=newdf2['column_1'].astype(float)\n",
      "/var/folders/5l/kpxnt2bs4833d97xqj_kt90c0000gn/T/ipykernel_68471/2708965772.py:2: SettingWithCopyWarning: \n",
      "A value is trying to be set on a copy of a slice from a DataFrame.\n",
      "Try using .loc[row_indexer,col_indexer] = value instead\n",
      "\n",
      "See the caveats in the documentation: https://pandas.pydata.org/pandas-docs/stable/user_guide/indexing.html#returning-a-view-versus-a-copy\n",
      "  newdf2['column_2']=newdf2['column_2'].astype(float)\n",
      "/var/folders/5l/kpxnt2bs4833d97xqj_kt90c0000gn/T/ipykernel_68471/2708965772.py:3: SettingWithCopyWarning: \n",
      "A value is trying to be set on a copy of a slice from a DataFrame.\n",
      "Try using .loc[row_indexer,col_indexer] = value instead\n",
      "\n",
      "See the caveats in the documentation: https://pandas.pydata.org/pandas-docs/stable/user_guide/indexing.html#returning-a-view-versus-a-copy\n",
      "  newdf2['column_3']=newdf2['column_3'].astype(float)\n",
      "/var/folders/5l/kpxnt2bs4833d97xqj_kt90c0000gn/T/ipykernel_68471/2708965772.py:4: SettingWithCopyWarning: \n",
      "A value is trying to be set on a copy of a slice from a DataFrame.\n",
      "Try using .loc[row_indexer,col_indexer] = value instead\n",
      "\n",
      "See the caveats in the documentation: https://pandas.pydata.org/pandas-docs/stable/user_guide/indexing.html#returning-a-view-versus-a-copy\n",
      "  newdf2['column_4']=newdf2['column_4'].astype(float)\n"
     ]
    }
   ],
   "source": [
    "newdf2['column_1']=newdf2['column_1'].astype(float)\n",
    "newdf2['column_2']=newdf2['column_2'].astype(float)\n",
    "newdf2['column_3']=newdf2['column_3'].astype(float)\n",
    "newdf2['column_4']=newdf2['column_4'].astype(float)\n"
   ]
  },
  {
   "cell_type": "code",
   "execution_count": 138,
   "metadata": {},
   "outputs": [
    {
     "data": {
      "text/plain": [
       "column_1       float64\n",
       "column_2       float64\n",
       "column_3       float64\n",
       "column_4       float64\n",
       "column_5         int64\n",
       "                ...   \n",
       "column_1555      int64\n",
       "column_1556      int64\n",
       "column_1557      int64\n",
       "column_1558      int64\n",
       "column_1559     object\n",
       "Length: 1559, dtype: object"
      ]
     },
     "execution_count": 138,
     "metadata": {},
     "output_type": "execute_result"
    }
   ],
   "source": [
    "newdf2.dtypes"
   ]
  },
  {
   "cell_type": "code",
   "execution_count": 139,
   "metadata": {},
   "outputs": [
    {
     "data": {
      "text/plain": [
       "1.0    1792\n",
       "0.0     567\n",
       "Name: column_4, dtype: int64"
      ]
     },
     "execution_count": 139,
     "metadata": {},
     "output_type": "execute_result"
    }
   ],
   "source": [
    "newdf2.column_4.value_counts()"
   ]
  },
  {
   "cell_type": "code",
   "execution_count": 140,
   "metadata": {},
   "outputs": [
    {
     "data": {
      "text/html": [
       "<div>\n",
       "<style scoped>\n",
       "    .dataframe tbody tr th:only-of-type {\n",
       "        vertical-align: middle;\n",
       "    }\n",
       "\n",
       "    .dataframe tbody tr th {\n",
       "        vertical-align: top;\n",
       "    }\n",
       "\n",
       "    .dataframe thead th {\n",
       "        text-align: right;\n",
       "    }\n",
       "</style>\n",
       "<table border=\"1\" class=\"dataframe\">\n",
       "  <thead>\n",
       "    <tr style=\"text-align: right;\">\n",
       "      <th></th>\n",
       "      <th>column_1</th>\n",
       "      <th>column_2</th>\n",
       "      <th>column_3</th>\n",
       "      <th>column_4</th>\n",
       "      <th>column_5</th>\n",
       "      <th>column_6</th>\n",
       "      <th>column_7</th>\n",
       "      <th>column_8</th>\n",
       "      <th>column_9</th>\n",
       "      <th>column_10</th>\n",
       "      <th>...</th>\n",
       "      <th>column_1549</th>\n",
       "      <th>column_1550</th>\n",
       "      <th>column_1551</th>\n",
       "      <th>column_1552</th>\n",
       "      <th>column_1553</th>\n",
       "      <th>column_1554</th>\n",
       "      <th>column_1555</th>\n",
       "      <th>column_1556</th>\n",
       "      <th>column_1557</th>\n",
       "      <th>column_1558</th>\n",
       "    </tr>\n",
       "  </thead>\n",
       "  <tbody>\n",
       "    <tr>\n",
       "      <th>count</th>\n",
       "      <td>2359.000000</td>\n",
       "      <td>2359.000000</td>\n",
       "      <td>2359.000000</td>\n",
       "      <td>2359.000000</td>\n",
       "      <td>2359.000000</td>\n",
       "      <td>2359.0</td>\n",
       "      <td>2359.000000</td>\n",
       "      <td>2359.000000</td>\n",
       "      <td>2359.000000</td>\n",
       "      <td>2359.000000</td>\n",
       "      <td>...</td>\n",
       "      <td>2359.000000</td>\n",
       "      <td>2359.000000</td>\n",
       "      <td>2359.000000</td>\n",
       "      <td>2359.000000</td>\n",
       "      <td>2359.000000</td>\n",
       "      <td>2359.000000</td>\n",
       "      <td>2359.000000</td>\n",
       "      <td>2359.000000</td>\n",
       "      <td>2359.00000</td>\n",
       "      <td>2359.000000</td>\n",
       "    </tr>\n",
       "    <tr>\n",
       "      <th>mean</th>\n",
       "      <td>63.912251</td>\n",
       "      <td>155.631624</td>\n",
       "      <td>3.912982</td>\n",
       "      <td>0.759644</td>\n",
       "      <td>0.002120</td>\n",
       "      <td>0.0</td>\n",
       "      <td>0.006359</td>\n",
       "      <td>0.004663</td>\n",
       "      <td>0.004663</td>\n",
       "      <td>0.014837</td>\n",
       "      <td>...</td>\n",
       "      <td>0.001696</td>\n",
       "      <td>0.003815</td>\n",
       "      <td>0.001272</td>\n",
       "      <td>0.002120</td>\n",
       "      <td>0.002543</td>\n",
       "      <td>0.008478</td>\n",
       "      <td>0.013989</td>\n",
       "      <td>0.014837</td>\n",
       "      <td>0.00975</td>\n",
       "      <td>0.000848</td>\n",
       "    </tr>\n",
       "    <tr>\n",
       "      <th>std</th>\n",
       "      <td>54.881130</td>\n",
       "      <td>130.237867</td>\n",
       "      <td>6.047220</td>\n",
       "      <td>0.427390</td>\n",
       "      <td>0.045999</td>\n",
       "      <td>0.0</td>\n",
       "      <td>0.079504</td>\n",
       "      <td>0.068141</td>\n",
       "      <td>0.068141</td>\n",
       "      <td>0.120925</td>\n",
       "      <td>...</td>\n",
       "      <td>0.041152</td>\n",
       "      <td>0.061662</td>\n",
       "      <td>0.035646</td>\n",
       "      <td>0.045999</td>\n",
       "      <td>0.050379</td>\n",
       "      <td>0.091705</td>\n",
       "      <td>0.117470</td>\n",
       "      <td>0.120925</td>\n",
       "      <td>0.09828</td>\n",
       "      <td>0.029111</td>\n",
       "    </tr>\n",
       "    <tr>\n",
       "      <th>min</th>\n",
       "      <td>1.000000</td>\n",
       "      <td>1.000000</td>\n",
       "      <td>0.001500</td>\n",
       "      <td>0.000000</td>\n",
       "      <td>0.000000</td>\n",
       "      <td>0.0</td>\n",
       "      <td>0.000000</td>\n",
       "      <td>0.000000</td>\n",
       "      <td>0.000000</td>\n",
       "      <td>0.000000</td>\n",
       "      <td>...</td>\n",
       "      <td>0.000000</td>\n",
       "      <td>0.000000</td>\n",
       "      <td>0.000000</td>\n",
       "      <td>0.000000</td>\n",
       "      <td>0.000000</td>\n",
       "      <td>0.000000</td>\n",
       "      <td>0.000000</td>\n",
       "      <td>0.000000</td>\n",
       "      <td>0.00000</td>\n",
       "      <td>0.000000</td>\n",
       "    </tr>\n",
       "    <tr>\n",
       "      <th>25%</th>\n",
       "      <td>25.000000</td>\n",
       "      <td>80.500000</td>\n",
       "      <td>1.033450</td>\n",
       "      <td>1.000000</td>\n",
       "      <td>0.000000</td>\n",
       "      <td>0.0</td>\n",
       "      <td>0.000000</td>\n",
       "      <td>0.000000</td>\n",
       "      <td>0.000000</td>\n",
       "      <td>0.000000</td>\n",
       "      <td>...</td>\n",
       "      <td>0.000000</td>\n",
       "      <td>0.000000</td>\n",
       "      <td>0.000000</td>\n",
       "      <td>0.000000</td>\n",
       "      <td>0.000000</td>\n",
       "      <td>0.000000</td>\n",
       "      <td>0.000000</td>\n",
       "      <td>0.000000</td>\n",
       "      <td>0.00000</td>\n",
       "      <td>0.000000</td>\n",
       "    </tr>\n",
       "    <tr>\n",
       "      <th>50%</th>\n",
       "      <td>51.000000</td>\n",
       "      <td>110.000000</td>\n",
       "      <td>2.111100</td>\n",
       "      <td>1.000000</td>\n",
       "      <td>0.000000</td>\n",
       "      <td>0.0</td>\n",
       "      <td>0.000000</td>\n",
       "      <td>0.000000</td>\n",
       "      <td>0.000000</td>\n",
       "      <td>0.000000</td>\n",
       "      <td>...</td>\n",
       "      <td>0.000000</td>\n",
       "      <td>0.000000</td>\n",
       "      <td>0.000000</td>\n",
       "      <td>0.000000</td>\n",
       "      <td>0.000000</td>\n",
       "      <td>0.000000</td>\n",
       "      <td>0.000000</td>\n",
       "      <td>0.000000</td>\n",
       "      <td>0.00000</td>\n",
       "      <td>0.000000</td>\n",
       "    </tr>\n",
       "    <tr>\n",
       "      <th>75%</th>\n",
       "      <td>84.000000</td>\n",
       "      <td>184.000000</td>\n",
       "      <td>5.333300</td>\n",
       "      <td>1.000000</td>\n",
       "      <td>0.000000</td>\n",
       "      <td>0.0</td>\n",
       "      <td>0.000000</td>\n",
       "      <td>0.000000</td>\n",
       "      <td>0.000000</td>\n",
       "      <td>0.000000</td>\n",
       "      <td>...</td>\n",
       "      <td>0.000000</td>\n",
       "      <td>0.000000</td>\n",
       "      <td>0.000000</td>\n",
       "      <td>0.000000</td>\n",
       "      <td>0.000000</td>\n",
       "      <td>0.000000</td>\n",
       "      <td>0.000000</td>\n",
       "      <td>0.000000</td>\n",
       "      <td>0.00000</td>\n",
       "      <td>0.000000</td>\n",
       "    </tr>\n",
       "    <tr>\n",
       "      <th>max</th>\n",
       "      <td>640.000000</td>\n",
       "      <td>640.000000</td>\n",
       "      <td>60.000000</td>\n",
       "      <td>1.000000</td>\n",
       "      <td>1.000000</td>\n",
       "      <td>0.0</td>\n",
       "      <td>1.000000</td>\n",
       "      <td>1.000000</td>\n",
       "      <td>1.000000</td>\n",
       "      <td>1.000000</td>\n",
       "      <td>...</td>\n",
       "      <td>1.000000</td>\n",
       "      <td>1.000000</td>\n",
       "      <td>1.000000</td>\n",
       "      <td>1.000000</td>\n",
       "      <td>1.000000</td>\n",
       "      <td>1.000000</td>\n",
       "      <td>1.000000</td>\n",
       "      <td>1.000000</td>\n",
       "      <td>1.00000</td>\n",
       "      <td>1.000000</td>\n",
       "    </tr>\n",
       "  </tbody>\n",
       "</table>\n",
       "<p>8 rows × 1558 columns</p>\n",
       "</div>"
      ],
      "text/plain": [
       "          column_1     column_2     column_3     column_4     column_5  \\\n",
       "count  2359.000000  2359.000000  2359.000000  2359.000000  2359.000000   \n",
       "mean     63.912251   155.631624     3.912982     0.759644     0.002120   \n",
       "std      54.881130   130.237867     6.047220     0.427390     0.045999   \n",
       "min       1.000000     1.000000     0.001500     0.000000     0.000000   \n",
       "25%      25.000000    80.500000     1.033450     1.000000     0.000000   \n",
       "50%      51.000000   110.000000     2.111100     1.000000     0.000000   \n",
       "75%      84.000000   184.000000     5.333300     1.000000     0.000000   \n",
       "max     640.000000   640.000000    60.000000     1.000000     1.000000   \n",
       "\n",
       "       column_6     column_7     column_8     column_9    column_10  ...  \\\n",
       "count    2359.0  2359.000000  2359.000000  2359.000000  2359.000000  ...   \n",
       "mean        0.0     0.006359     0.004663     0.004663     0.014837  ...   \n",
       "std         0.0     0.079504     0.068141     0.068141     0.120925  ...   \n",
       "min         0.0     0.000000     0.000000     0.000000     0.000000  ...   \n",
       "25%         0.0     0.000000     0.000000     0.000000     0.000000  ...   \n",
       "50%         0.0     0.000000     0.000000     0.000000     0.000000  ...   \n",
       "75%         0.0     0.000000     0.000000     0.000000     0.000000  ...   \n",
       "max         0.0     1.000000     1.000000     1.000000     1.000000  ...   \n",
       "\n",
       "       column_1549  column_1550  column_1551  column_1552  column_1553  \\\n",
       "count  2359.000000  2359.000000  2359.000000  2359.000000  2359.000000   \n",
       "mean      0.001696     0.003815     0.001272     0.002120     0.002543   \n",
       "std       0.041152     0.061662     0.035646     0.045999     0.050379   \n",
       "min       0.000000     0.000000     0.000000     0.000000     0.000000   \n",
       "25%       0.000000     0.000000     0.000000     0.000000     0.000000   \n",
       "50%       0.000000     0.000000     0.000000     0.000000     0.000000   \n",
       "75%       0.000000     0.000000     0.000000     0.000000     0.000000   \n",
       "max       1.000000     1.000000     1.000000     1.000000     1.000000   \n",
       "\n",
       "       column_1554  column_1555  column_1556  column_1557  column_1558  \n",
       "count  2359.000000  2359.000000  2359.000000   2359.00000  2359.000000  \n",
       "mean      0.008478     0.013989     0.014837      0.00975     0.000848  \n",
       "std       0.091705     0.117470     0.120925      0.09828     0.029111  \n",
       "min       0.000000     0.000000     0.000000      0.00000     0.000000  \n",
       "25%       0.000000     0.000000     0.000000      0.00000     0.000000  \n",
       "50%       0.000000     0.000000     0.000000      0.00000     0.000000  \n",
       "75%       0.000000     0.000000     0.000000      0.00000     0.000000  \n",
       "max       1.000000     1.000000     1.000000      1.00000     1.000000  \n",
       "\n",
       "[8 rows x 1558 columns]"
      ]
     },
     "execution_count": 140,
     "metadata": {},
     "output_type": "execute_result"
    }
   ],
   "source": [
    "newdf2.describe()"
   ]
  },
  {
   "cell_type": "code",
   "execution_count": 164,
   "metadata": {},
   "outputs": [
    {
     "name": "stdout",
     "output_type": "stream",
     "text": [
      "51.0\n",
      "110.0\n",
      "2.1111\n",
      "1.0\n",
      "mode\n",
      "0    60.0\n",
      "Name: column_1, dtype: float64\n",
      "0    468.0\n",
      "Name: column_2, dtype: float64\n",
      "0    1.0\n",
      "Name: column_3, dtype: float64\n",
      "0    1.0\n",
      "Name: column_4, dtype: float64\n"
     ]
    }
   ],
   "source": [
    "print(newdf2.column_1.median())\n",
    "print(newdf2.column_2.median())\n",
    "print(newdf2.column_3.median())\n",
    "print(newdf2.column_4.median())\n",
    "\n",
    "print('mode')\n",
    "print(newdf2.column_1.mode())\n",
    "print(newdf2.column_2.mode())\n",
    "print(newdf2.column_3.mode())\n",
    "print(newdf2.column_4.mode())"
   ]
  },
  {
   "cell_type": "markdown",
   "metadata": {},
   "source": [
    "In all first four columns the mean is higher than the median. I need to make some boxplots and histograms."
   ]
  },
  {
   "cell_type": "code",
   "execution_count": 163,
   "metadata": {},
   "outputs": [
    {
     "data": {
      "image/png": "[encoded data removed]",
      "text/plain": [
       "<Figure size 640x480 with 1 Axes>"
      ]
     },
     "metadata": {},
     "output_type": "display_data"
    }
   ],
   "source": [
    "import matplotlib.pyplot as plt\n",
    "plt.hist(newdf2.column_1, bins=10)\n",
    "plt.show()"
   ]
  },
  {
   "cell_type": "code",
   "execution_count": 168,
   "metadata": {},
   "outputs": [
    {
     "data": {
      "image/png": "[encoded data removed]",
      "text/plain": [
       "<Figure size 640x480 with 1 Axes>"
      ]
     },
     "metadata": {},
     "output_type": "display_data"
    }
   ],
   "source": [
    "plt.boxplot(newdf2.column_1, vert=False)\n",
    "plt.show()"
   ]
  },
  {
   "cell_type": "code",
   "execution_count": 155,
   "metadata": {},
   "outputs": [
    {
     "data": {
      "image/png": "[encoded data removed]",
      "text/plain": [
       "<Figure size 640x480 with 1 Axes>"
      ]
     },
     "metadata": {},
     "output_type": "display_data"
    }
   ],
   "source": [
    "import matplotlib.pyplot as plt\n",
    "plt.hist(newdf2.column_2, bins=10)\n",
    "plt.show()"
   ]
  },
  {
   "cell_type": "code",
   "execution_count": 167,
   "metadata": {},
   "outputs": [
    {
     "data": {
      "image/png": "[encoded data removed]",
      "text/plain": [
       "<Figure size 640x480 with 1 Axes>"
      ]
     },
     "metadata": {},
     "output_type": "display_data"
    }
   ],
   "source": [
    "plt.boxplot(newdf2.column_2, vert=False)\n",
    "plt.show()"
   ]
  },
  {
   "cell_type": "code",
   "execution_count": 157,
   "metadata": {},
   "outputs": [
    {
     "data": {
      "image/png": "[encoded data removed]",
      "text/plain": [
       "<Figure size 640x480 with 1 Axes>"
      ]
     },
     "metadata": {},
     "output_type": "display_data"
    }
   ],
   "source": [
    "import matplotlib.pyplot as plt\n",
    "plt.hist(newdf2.column_3, bins=10)\n",
    "plt.show()"
   ]
  },
  {
   "cell_type": "code",
   "execution_count": 169,
   "metadata": {},
   "outputs": [
    {
     "data": {
      "image/png": "[encoded data removed]",
      "text/plain": [
       "<Figure size 640x480 with 1 Axes>"
      ]
     },
     "metadata": {},
     "output_type": "display_data"
    }
   ],
   "source": [
    "plt.boxplot(newdf2.column_3, vert=False)\n",
    "plt.show()"
   ]
  },
  {
   "cell_type": "code",
   "execution_count": 115,
   "metadata": {},
   "outputs": [
    {
     "name": "stdout",
     "output_type": "stream",
     "text": [
      "Column Name :  column_6\n",
      "0    2359\n",
      "Name: column_6, dtype: int64\n",
      "Column Name :  column_14\n",
      "0    2359\n",
      "Name: column_14, dtype: int64\n",
      "Column Name :  column_34\n",
      "0    2359\n",
      "Name: column_34, dtype: int64\n",
      "Column Name :  column_39\n",
      "0    2359\n",
      "Name: column_39, dtype: int64\n",
      "Column Name :  column_46\n",
      "0    2359\n",
      "Name: column_46, dtype: int64\n",
      "Column Name :  column_62\n",
      "0    2359\n",
      "Name: column_62, dtype: int64\n",
      "Column Name :  column_63\n",
      "0    2359\n",
      "Name: column_63, dtype: int64\n",
      "Column Name :  column_78\n",
      "0    2359\n",
      "Name: column_78, dtype: int64\n",
      "Column Name :  column_79\n",
      "0    2359\n",
      "Name: column_79, dtype: int64\n",
      "Column Name :  column_83\n",
      "0    2359\n",
      "Name: column_83, dtype: int64\n",
      "Column Name :  column_93\n",
      "0    2359\n",
      "Name: column_93, dtype: int64\n",
      "Column Name :  column_112\n",
      "0    2359\n",
      "Name: column_112, dtype: int64\n",
      "Column Name :  column_116\n",
      "0    2359\n",
      "Name: column_116, dtype: int64\n",
      "Column Name :  column_117\n",
      "0    2359\n",
      "Name: column_117, dtype: int64\n",
      "Column Name :  column_126\n",
      "0    2359\n",
      "Name: column_126, dtype: int64\n",
      "Column Name :  column_147\n",
      "0    2359\n",
      "Name: column_147, dtype: int64\n",
      "Column Name :  column_163\n",
      "0    2359\n",
      "Name: column_163, dtype: int64\n",
      "Column Name :  column_165\n",
      "0    2359\n",
      "Name: column_165, dtype: int64\n",
      "Column Name :  column_180\n",
      "0    2359\n",
      "Name: column_180, dtype: int64\n",
      "Column Name :  column_185\n",
      "0    2359\n",
      "Name: column_185, dtype: int64\n",
      "Column Name :  column_186\n",
      "0    2359\n",
      "Name: column_186, dtype: int64\n",
      "Column Name :  column_204\n",
      "0    2359\n",
      "Name: column_204, dtype: int64\n",
      "Column Name :  column_208\n",
      "0    2359\n",
      "Name: column_208, dtype: int64\n",
      "Column Name :  column_220\n",
      "0    2359\n",
      "Name: column_220, dtype: int64\n",
      "Column Name :  column_245\n",
      "0    2359\n",
      "Name: column_245, dtype: int64\n",
      "Column Name :  column_256\n",
      "0    2359\n",
      "Name: column_256, dtype: int64\n",
      "Column Name :  column_262\n",
      "0    2359\n",
      "Name: column_262, dtype: int64\n",
      "Column Name :  column_267\n",
      "0    2359\n",
      "Name: column_267, dtype: int64\n",
      "Column Name :  column_278\n",
      "0    2359\n",
      "Name: column_278, dtype: int64\n",
      "Column Name :  column_280\n",
      "0    2359\n",
      "Name: column_280, dtype: int64\n",
      "Column Name :  column_281\n",
      "0    2359\n",
      "Name: column_281, dtype: int64\n",
      "Column Name :  column_284\n",
      "0    2359\n",
      "Name: column_284, dtype: int64\n",
      "Column Name :  column_290\n",
      "0    2359\n",
      "Name: column_290, dtype: int64\n",
      "Column Name :  column_309\n",
      "0    2359\n",
      "Name: column_309, dtype: int64\n",
      "Column Name :  column_315\n",
      "0    2359\n",
      "Name: column_315, dtype: int64\n",
      "Column Name :  column_336\n",
      "0    2359\n",
      "Name: column_336, dtype: int64\n",
      "Column Name :  column_354\n",
      "0    2359\n",
      "Name: column_354, dtype: int64\n",
      "Column Name :  column_383\n",
      "0    2359\n",
      "Name: column_383, dtype: int64\n",
      "Column Name :  column_388\n",
      "0    2359\n",
      "Name: column_388, dtype: int64\n",
      "Column Name :  column_389\n",
      "0    2359\n",
      "Name: column_389, dtype: int64\n",
      "Column Name :  column_391\n",
      "0    2359\n",
      "Name: column_391, dtype: int64\n",
      "Column Name :  column_414\n",
      "0    2359\n",
      "Name: column_414, dtype: int64\n",
      "Column Name :  column_415\n",
      "0    2359\n",
      "Name: column_415, dtype: int64\n",
      "Column Name :  column_422\n",
      "0    2359\n",
      "Name: column_422, dtype: int64\n",
      "Column Name :  column_439\n",
      "0    2359\n",
      "Name: column_439, dtype: int64\n",
      "Column Name :  column_448\n",
      "0    2359\n",
      "Name: column_448, dtype: int64\n",
      "Column Name :  column_455\n",
      "0    2359\n",
      "Name: column_455, dtype: int64\n",
      "Column Name :  column_463\n",
      "0    2359\n",
      "Name: column_463, dtype: int64\n",
      "Column Name :  column_467\n",
      "0    2359\n",
      "Name: column_467, dtype: int64\n",
      "Column Name :  column_468\n",
      "0    2359\n",
      "Name: column_468, dtype: int64\n",
      "Column Name :  column_470\n",
      "0    2359\n",
      "Name: column_470, dtype: int64\n",
      "Column Name :  column_487\n",
      "0    2359\n",
      "Name: column_487, dtype: int64\n",
      "Column Name :  column_488\n",
      "0    2359\n",
      "Name: column_488, dtype: int64\n",
      "Column Name :  column_495\n",
      "0    2359\n",
      "Name: column_495, dtype: int64\n",
      "Column Name :  column_544\n",
      "0    2359\n",
      "Name: column_544, dtype: int64\n",
      "Column Name :  column_553\n",
      "0    2359\n",
      "Name: column_553, dtype: int64\n",
      "Column Name :  column_570\n",
      "0    2359\n",
      "Name: column_570, dtype: int64\n",
      "Column Name :  column_578\n",
      "0    2359\n",
      "Name: column_578, dtype: int64\n",
      "Column Name :  column_579\n",
      "0    2359\n",
      "Name: column_579, dtype: int64\n",
      "Column Name :  column_582\n",
      "0    2359\n",
      "Name: column_582, dtype: int64\n",
      "Column Name :  column_596\n",
      "0    2359\n",
      "Name: column_596, dtype: int64\n",
      "Column Name :  column_607\n",
      "0    2359\n",
      "Name: column_607, dtype: int64\n",
      "Column Name :  column_630\n",
      "0    2359\n",
      "Name: column_630, dtype: int64\n",
      "Column Name :  column_633\n",
      "0    2359\n",
      "Name: column_633, dtype: int64\n",
      "Column Name :  column_668\n",
      "0    2359\n",
      "Name: column_668, dtype: int64\n",
      "Column Name :  column_693\n",
      "0    2359\n",
      "Name: column_693, dtype: int64\n",
      "Column Name :  column_719\n",
      "0    2359\n",
      "Name: column_719, dtype: int64\n",
      "Column Name :  column_738\n",
      "0    2359\n",
      "Name: column_738, dtype: int64\n",
      "Column Name :  column_746\n",
      "0    2359\n",
      "Name: column_746, dtype: int64\n",
      "Column Name :  column_749\n",
      "0    2359\n",
      "Name: column_749, dtype: int64\n",
      "Column Name :  column_755\n",
      "0    2359\n",
      "Name: column_755, dtype: int64\n",
      "Column Name :  column_771\n",
      "0    2359\n",
      "Name: column_771, dtype: int64\n",
      "Column Name :  column_783\n",
      "0    2359\n",
      "Name: column_783, dtype: int64\n",
      "Column Name :  column_785\n",
      "0    2359\n",
      "Name: column_785, dtype: int64\n",
      "Column Name :  column_786\n",
      "0    2359\n",
      "Name: column_786, dtype: int64\n",
      "Column Name :  column_793\n",
      "0    2359\n",
      "Name: column_793, dtype: int64\n",
      "Column Name :  column_815\n",
      "0    2359\n",
      "Name: column_815, dtype: int64\n",
      "Column Name :  column_848\n",
      "0    2359\n",
      "Name: column_848, dtype: int64\n",
      "Column Name :  column_863\n",
      "0    2359\n",
      "Name: column_863, dtype: int64\n",
      "Column Name :  column_894\n",
      "0    2359\n",
      "Name: column_894, dtype: int64\n",
      "Column Name :  column_905\n",
      "0    2359\n",
      "Name: column_905, dtype: int64\n",
      "Column Name :  column_923\n",
      "0    2359\n",
      "Name: column_923, dtype: int64\n",
      "Column Name :  column_934\n",
      "0    2359\n",
      "Name: column_934, dtype: int64\n",
      "Column Name :  column_941\n",
      "0    2359\n",
      "Name: column_941, dtype: int64\n",
      "Column Name :  column_958\n",
      "0    2359\n",
      "Name: column_958, dtype: int64\n",
      "Column Name :  column_967\n",
      "0    2359\n",
      "Name: column_967, dtype: int64\n",
      "Column Name :  column_981\n",
      "0    2359\n",
      "Name: column_981, dtype: int64\n",
      "Column Name :  column_989\n",
      "0    2359\n",
      "Name: column_989, dtype: int64\n",
      "Column Name :  column_1013\n",
      "0    2359\n",
      "Name: column_1013, dtype: int64\n",
      "Column Name :  column_1034\n",
      "0    2359\n",
      "Name: column_1034, dtype: int64\n",
      "Column Name :  column_1035\n",
      "0    2359\n",
      "Name: column_1035, dtype: int64\n",
      "Column Name :  column_1038\n",
      "0    2359\n",
      "Name: column_1038, dtype: int64\n",
      "Column Name :  column_1062\n",
      "0    2359\n",
      "Name: column_1062, dtype: int64\n",
      "Column Name :  column_1069\n",
      "0    2359\n",
      "Name: column_1069, dtype: int64\n",
      "Column Name :  column_1070\n",
      "0    2359\n",
      "Name: column_1070, dtype: int64\n",
      "Column Name :  column_1071\n",
      "0    2359\n",
      "Name: column_1071, dtype: int64\n",
      "Column Name :  column_1096\n",
      "0    2359\n",
      "Name: column_1096, dtype: int64\n",
      "Column Name :  column_1108\n",
      "0    2359\n",
      "Name: column_1108, dtype: int64\n",
      "Column Name :  column_1115\n",
      "0    2359\n",
      "Name: column_1115, dtype: int64\n",
      "Column Name :  column_1128\n",
      "0    2359\n",
      "Name: column_1128, dtype: int64\n",
      "Column Name :  column_1143\n",
      "0    2359\n",
      "Name: column_1143, dtype: int64\n",
      "Column Name :  column_1152\n",
      "0    2359\n",
      "Name: column_1152, dtype: int64\n",
      "Column Name :  column_1182\n",
      "0    2359\n",
      "Name: column_1182, dtype: int64\n",
      "Column Name :  column_1193\n",
      "0    2359\n",
      "Name: column_1193, dtype: int64\n",
      "Column Name :  column_1194\n",
      "0    2359\n",
      "Name: column_1194, dtype: int64\n",
      "Column Name :  column_1197\n",
      "0    2359\n",
      "Name: column_1197, dtype: int64\n",
      "Column Name :  column_1203\n",
      "0    2359\n",
      "Name: column_1203, dtype: int64\n",
      "Column Name :  column_1211\n",
      "0    2359\n",
      "Name: column_1211, dtype: int64\n",
      "Column Name :  column_1213\n",
      "0    2359\n",
      "Name: column_1213, dtype: int64\n",
      "Column Name :  column_1223\n",
      "0    2359\n",
      "Name: column_1223, dtype: int64\n",
      "Column Name :  column_1243\n",
      "0    2359\n",
      "Name: column_1243, dtype: int64\n",
      "Column Name :  column_1245\n",
      "0    2359\n",
      "Name: column_1245, dtype: int64\n",
      "Column Name :  column_1247\n",
      "0    2359\n",
      "Name: column_1247, dtype: int64\n",
      "Column Name :  column_1250\n",
      "0    2359\n",
      "Name: column_1250, dtype: int64\n",
      "Column Name :  column_1269\n",
      "0    2359\n",
      "Name: column_1269, dtype: int64\n",
      "Column Name :  column_1275\n",
      "0    2359\n",
      "Name: column_1275, dtype: int64\n",
      "Column Name :  column_1287\n",
      "0    2359\n",
      "Name: column_1287, dtype: int64\n",
      "Column Name :  column_1302\n",
      "0    2359\n",
      "Name: column_1302, dtype: int64\n",
      "Column Name :  column_1333\n",
      "0    2359\n",
      "Name: column_1333, dtype: int64\n",
      "Column Name :  column_1341\n",
      "0    2359\n",
      "Name: column_1341, dtype: int64\n",
      "Column Name :  column_1348\n",
      "0    2359\n",
      "Name: column_1348, dtype: int64\n",
      "Column Name :  column_1379\n",
      "0    2359\n",
      "Name: column_1379, dtype: int64\n",
      "Column Name :  column_1407\n",
      "0    2359\n",
      "Name: column_1407, dtype: int64\n",
      "Column Name :  column_1408\n",
      "0    2359\n",
      "Name: column_1408, dtype: int64\n",
      "Column Name :  column_1410\n",
      "0    2359\n",
      "Name: column_1410, dtype: int64\n",
      "Column Name :  column_1420\n",
      "0    2359\n",
      "Name: column_1420, dtype: int64\n",
      "Column Name :  column_1427\n",
      "0    2359\n",
      "Name: column_1427, dtype: int64\n",
      "Column Name :  column_1544\n",
      "0    2359\n",
      "Name: column_1544, dtype: int64\n"
     ]
    }
   ],
   "source": [
    "list=[]\n",
    "# Iterate over column names\n",
    "for column in newdf2:\n",
    "     \n",
    "    # Select column contents by column\n",
    "    column_max=newdf2[column].max()\n",
    "    column_min=newdf2[column].min()\n",
    "    if column_max == column_min:\n",
    "        list.append(column)\n",
    "        print('Column Name : ', column)\n",
    "        print(newdf2[column].value_counts())"
   ]
  },
  {
   "cell_type": "code",
   "execution_count": 117,
   "metadata": {},
   "outputs": [
    {
     "name": "stdout",
     "output_type": "stream",
     "text": [
      "['column_6', 'column_14', 'column_34', 'column_39', 'column_46', 'column_62', 'column_63', 'column_78', 'column_79', 'column_83', 'column_93', 'column_112', 'column_116', 'column_117', 'column_126', 'column_147', 'column_163', 'column_165', 'column_180', 'column_185', 'column_186', 'column_204', 'column_208', 'column_220', 'column_245', 'column_256', 'column_262', 'column_267', 'column_278', 'column_280', 'column_281', 'column_284', 'column_290', 'column_309', 'column_315', 'column_336', 'column_354', 'column_383', 'column_388', 'column_389', 'column_391', 'column_414', 'column_415', 'column_422', 'column_439', 'column_448', 'column_455', 'column_463', 'column_467', 'column_468', 'column_470', 'column_487', 'column_488', 'column_495', 'column_544', 'column_553', 'column_570', 'column_578', 'column_579', 'column_582', 'column_596', 'column_607', 'column_630', 'column_633', 'column_668', 'column_693', 'column_719', 'column_738', 'column_746', 'column_749', 'column_755', 'column_771', 'column_783', 'column_785', 'column_786', 'column_793', 'column_815', 'column_848', 'column_863', 'column_894', 'column_905', 'column_923', 'column_934', 'column_941', 'column_958', 'column_967', 'column_981', 'column_989', 'column_1013', 'column_1034', 'column_1035', 'column_1038', 'column_1062', 'column_1069', 'column_1070', 'column_1071', 'column_1096', 'column_1108', 'column_1115', 'column_1128', 'column_1143', 'column_1152', 'column_1182', 'column_1193', 'column_1194', 'column_1197', 'column_1203', 'column_1211', 'column_1213', 'column_1223', 'column_1243', 'column_1245', 'column_1247', 'column_1250', 'column_1269', 'column_1275', 'column_1287', 'column_1302', 'column_1333', 'column_1341', 'column_1348', 'column_1379', 'column_1407', 'column_1408', 'column_1410', 'column_1420', 'column_1427', 'column_1544']\n",
      "128\n"
     ]
    }
   ],
   "source": [
    "print(list)\n",
    "print(len(list))"
   ]
  },
  {
   "cell_type": "markdown",
   "metadata": {},
   "source": [
    "I have the column names in a list can I import them into another module?"
   ]
  },
  {
   "cell_type": "markdown",
   "metadata": {},
   "source": [
    "Above I found all the columns that only have 0 as a value. These columns can be eliminated."
   ]
  },
  {
   "cell_type": "markdown",
   "metadata": {},
   "source": [
    "I need to make histograms for the first three columns"
   ]
  },
  {
   "cell_type": "code",
   "execution_count": 174,
   "metadata": {},
   "outputs": [
    {
     "name": "stdout",
     "output_type": "stream",
     "text": [
      "nonad.    1978\n",
      "ad.        381\n",
      "Name: column_1559, dtype: int64\n"
     ]
    }
   ],
   "source": [
    "print(newdf2.column_1559.value_counts())"
   ]
  },
  {
   "cell_type": "code",
   "execution_count": 196,
   "metadata": {},
   "outputs": [],
   "source": [
    "ad_df=newdf2[(newdf2.column_1559 == 'ad.')]\n",
    "nonad_df=newdf2[(newdf2.column_1559 == 'nonad.')]"
   ]
  },
  {
   "cell_type": "code",
   "execution_count": 197,
   "metadata": {},
   "outputs": [
    {
     "name": "stdout",
     "output_type": "stream",
     "text": [
      "0     15625.0\n",
      "1     26676.0\n",
      "2      7590.0\n",
      "3     28080.0\n",
      "4     28080.0\n",
      "5     28080.0\n",
      "6     27140.0\n",
      "7     14040.0\n",
      "8     28080.0\n",
      "9     28080.0\n",
      "11     4680.0\n",
      "12     5400.0\n",
      "13     5400.0\n",
      "14     7590.0\n",
      "15    28080.0\n",
      "Name: area, dtype: float64\n"
     ]
    },
    {
     "name": "stderr",
     "output_type": "stream",
     "text": [
      "/var/folders/5l/kpxnt2bs4833d97xqj_kt90c0000gn/T/ipykernel_68471/3796295258.py:1: SettingWithCopyWarning: \n",
      "A value is trying to be set on a copy of a slice from a DataFrame.\n",
      "Try using .loc[row_indexer,col_indexer] = value instead\n",
      "\n",
      "See the caveats in the documentation: https://pandas.pydata.org/pandas-docs/stable/user_guide/indexing.html#returning-a-view-versus-a-copy\n",
      "  ad_df['area']=ad_df['column_1']*ad_df['column_2']\n"
     ]
    }
   ],
   "source": [
    "ad_df['area']=ad_df['column_1']*ad_df['column_2']\n",
    "print(ad_df['area'].head(15))"
   ]
  },
  {
   "cell_type": "code",
   "execution_count": 198,
   "metadata": {},
   "outputs": [
    {
     "name": "stdout",
     "output_type": "stream",
     "text": [
      "461     5014.0\n",
      "462      684.0\n",
      "463    14250.0\n",
      "466     3900.0\n",
      "467     1260.0\n",
      "468     7360.0\n",
      "469     1800.0\n",
      "470     9799.0\n",
      "471    20928.0\n",
      "472      256.0\n",
      "473     5014.0\n",
      "475    33750.0\n",
      "476    33231.0\n",
      "477     1800.0\n",
      "479     1404.0\n",
      "Name: area, dtype: float64\n"
     ]
    },
    {
     "name": "stderr",
     "output_type": "stream",
     "text": [
      "/var/folders/5l/kpxnt2bs4833d97xqj_kt90c0000gn/T/ipykernel_68471/1699518135.py:1: SettingWithCopyWarning: \n",
      "A value is trying to be set on a copy of a slice from a DataFrame.\n",
      "Try using .loc[row_indexer,col_indexer] = value instead\n",
      "\n",
      "See the caveats in the documentation: https://pandas.pydata.org/pandas-docs/stable/user_guide/indexing.html#returning-a-view-versus-a-copy\n",
      "  nonad_df['area']=nonad_df['column_1']*nonad_df['column_2']\n"
     ]
    }
   ],
   "source": [
    "nonad_df['area']=nonad_df['column_1']*nonad_df['column_2']\n",
    "print(nonad_df['area'].head(15))"
   ]
  },
  {
   "cell_type": "code",
   "execution_count": 199,
   "metadata": {},
   "outputs": [
    {
     "name": "stdout",
     "output_type": "stream",
     "text": [
      "count      1978.000000\n",
      "mean       9519.002528\n",
      "std       15064.206695\n",
      "min           1.000000\n",
      "25%        1620.250000\n",
      "50%        4410.000000\n",
      "75%       11699.000000\n",
      "max      307200.000000\n",
      "Name: area, dtype: float64\n"
     ]
    }
   ],
   "source": [
    "print(nonad_df['area'].describe())"
   ]
  },
  {
   "cell_type": "code",
   "execution_count": 228,
   "metadata": {},
   "outputs": [
    {
     "name": "stdout",
     "output_type": "stream",
     "text": [
      "Nonad\n",
      "Range: 307199\n",
      "IQR: 10078.75\n"
     ]
    }
   ],
   "source": [
    "print('Nonad')\n",
    "print('Range:', 307200-1)\n",
    "print('IQR:', 11699-1620.25)"
   ]
  },
  {
   "cell_type": "code",
   "execution_count": 201,
   "metadata": {},
   "outputs": [
    {
     "name": "stdout",
     "output_type": "stream",
     "text": [
      "count      381.000000\n",
      "mean     20217.868766\n",
      "std      10237.951927\n",
      "min          4.000000\n",
      "25%       9890.000000\n",
      "50%      28080.000000\n",
      "75%      28080.000000\n",
      "max      61533.000000\n",
      "Name: area, dtype: float64\n"
     ]
    }
   ],
   "source": [
    "print(ad_df['area'].describe())"
   ]
  },
  {
   "cell_type": "code",
   "execution_count": 229,
   "metadata": {},
   "outputs": [
    {
     "name": "stdout",
     "output_type": "stream",
     "text": [
      "Nonad\n",
      "Range: 61529\n",
      "IQR: 16190\n"
     ]
    }
   ],
   "source": [
    "print('Nonad')\n",
    "print('Range:', 61533-4)\n",
    "print('IQR:', 26080-9890)"
   ]
  },
  {
   "cell_type": "code",
   "execution_count": 206,
   "metadata": {},
   "outputs": [
    {
     "data": {
      "image/png": "[encoded data removed]",
      "text/plain": [
       "<Figure size 640x480 with 1 Axes>"
      ]
     },
     "metadata": {},
     "output_type": "display_data"
    }
   ],
   "source": [
    "plt.hist(ad_df['area'], bins=5)\n",
    "plt.show()"
   ]
  },
  {
   "cell_type": "code",
   "execution_count": 225,
   "metadata": {},
   "outputs": [
    {
     "data": {
      "image/png": "[encoded data removed]",
      "text/plain": [
       "<Figure size 640x480 with 1 Axes>"
      ]
     },
     "metadata": {},
     "output_type": "display_data"
    }
   ],
   "source": [
    "plt.boxplot(ad_df['area'], vert=False)\n",
    "plt.show()"
   ]
  },
  {
   "cell_type": "code",
   "execution_count": 224,
   "metadata": {},
   "outputs": [
    {
     "data": {
      "image/png": "[encoded data removed]",
      "text/plain": [
       "<Figure size 640x480 with 1 Axes>"
      ]
     },
     "metadata": {},
     "output_type": "display_data"
    }
   ],
   "source": [
    "plt.hist(nonad_df['area'], bins=6)\n",
    "plt.show()"
   ]
  },
  {
   "cell_type": "code",
   "execution_count": 227,
   "metadata": {},
   "outputs": [
    {
     "data": {
      "image/png": "[encoded data removed]",
      "text/plain": [
       "<Figure size 640x480 with 1 Axes>"
      ]
     },
     "metadata": {},
     "output_type": "display_data"
    }
   ],
   "source": [
    "plt.boxplot(nonad_df['area'], vert=False)\n",
    "plt.show()"
   ]
  },
  {
   "cell_type": "code",
   "execution_count": 214,
   "metadata": {},
   "outputs": [
    {
     "name": "stdout",
     "output_type": "stream",
     "text": [
      "Not an ad\n",
      "Mean: 9519.002527805864\n",
      "median: 4410.0\n"
     ]
    }
   ],
   "source": [
    "print(\"Not an ad\")\n",
    "print('Mean:', nonad_df['area'].mean())\n",
    "print('median:',nonad_df['area'].median())"
   ]
  },
  {
   "cell_type": "code",
   "execution_count": 215,
   "metadata": {},
   "outputs": [
    {
     "name": "stdout",
     "output_type": "stream",
     "text": [
      "ad\n",
      "Mean: 20217.8687664042\n",
      "median: 28080.0\n"
     ]
    }
   ],
   "source": [
    "print(\"ad\")\n",
    "print('Mean:', ad_df['area'].mean())\n",
    "print('median:',ad_df['area'].median())"
   ]
  },
  {
   "cell_type": "code",
   "execution_count": 230,
   "metadata": {},
   "outputs": [
    {
     "data": {
      "image/png": "[encoded data removed]",
      "text/plain": [
       "<Figure size 640x480 with 1 Axes>"
      ]
     },
     "metadata": {},
     "output_type": "display_data"
    }
   ],
   "source": [
    "plt.boxplot(nonad_df['column_2'], vert=False)\n",
    "plt.show()"
   ]
  },
  {
   "cell_type": "code",
   "execution_count": 231,
   "metadata": {},
   "outputs": [
    {
     "data": {
      "image/png": "[encoded data removed]",
      "text/plain": [
       "<Figure size 640x480 with 1 Axes>"
      ]
     },
     "metadata": {},
     "output_type": "display_data"
    }
   ],
   "source": [
    "plt.boxplot(ad_df['column_2'], vert=False)\n",
    "plt.show()"
   ]
  },
  {
   "cell_type": "code",
   "execution_count": 234,
   "metadata": {},
   "outputs": [
    {
     "data": {
      "image/png": "[encoded data removed]",
      "text/plain": [
       "<Figure size 640x480 with 1 Axes>"
      ]
     },
     "metadata": {},
     "output_type": "display_data"
    }
   ],
   "source": [
    "plt.boxplot(nonad_df['column_1'], vert=False)\n",
    "plt.show()"
   ]
  },
  {
   "cell_type": "code",
   "execution_count": 233,
   "metadata": {},
   "outputs": [
    {
     "data": {
      "image/png": "[encoded data removed]",
      "text/plain": [
       "<Figure size 640x480 with 1 Axes>"
      ]
     },
     "metadata": {},
     "output_type": "display_data"
    }
   ],
   "source": [
    "plt.boxplot(ad_df['column_1'], vert=False)\n",
    "plt.show()"
   ]
  },
  {
   "cell_type": "code",
   "execution_count": 236,
   "metadata": {},
   "outputs": [
    {
     "data": {
      "image/png": "[encoded data removed]",
      "text/plain": [
       "<Figure size 640x480 with 1 Axes>"
      ]
     },
     "metadata": {},
     "output_type": "display_data"
    }
   ],
   "source": [
    "plt.boxplot(ad_df['column_3'], vert=False)\n",
    "plt.show()"
   ]
  },
  {
   "cell_type": "code",
   "execution_count": 235,
   "metadata": {},
   "outputs": [
    {
     "data": {
      "image/png": "[encoded data removed]",
      "text/plain": [
       "<Figure size 640x480 with 1 Axes>"
      ]
     },
     "metadata": {},
     "output_type": "display_data"
    }
   ],
   "source": [
    "plt.boxplot(nonad_df['column_3'], vert=False)\n",
    "plt.show()"
   ]
  }
 ],
 "metadata": {
  "kernelspec": {
   "display_name": "Python 3.10.6 64-bit",
   "language": "python",
   "name": "python3"
  },
  "language_info": {
   "codemirror_mode": {
    "name": "ipython",
    "version": 3
   },
   "file_extension": ".py",
   "mimetype": "text/x-python",
   "name": "python",
   "nbconvert_exporter": "python",
   "pygments_lexer": "ipython3",
   "version": "3.10.6"
  },
  "orig_nbformat": 4,
  "vscode": {
   "interpreter": {
    "hash": "aee8b7b246df8f9039afb4144a1f6fd8d2ca17a180786b69acc140d282b71a49"
   }
  }
 },
 "nbformat": 4,
 "nbformat_minor": 2
}
